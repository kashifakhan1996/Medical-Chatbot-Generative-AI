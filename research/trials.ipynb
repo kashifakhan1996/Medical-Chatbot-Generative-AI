{
 "cells": [
  {
   "cell_type": "code",
   "execution_count": 2,
   "id": "bf9849dc",
   "metadata": {},
   "outputs": [
    {
     "data": {
      "text/plain": [
       "'f:\\\\Generative AI\\\\LangChain Projects\\\\Medical-Chatbot-Generative-AI\\\\research'"
      ]
     },
     "execution_count": 2,
     "metadata": {},
     "output_type": "execute_result"
    }
   ],
   "source": [
    "%pwd"
   ]
  },
  {
   "cell_type": "code",
   "execution_count": 3,
   "id": "3d517bb8",
   "metadata": {},
   "outputs": [
    {
     "data": {
      "text/plain": [
       "'f:\\\\Generative AI\\\\LangChain Projects\\\\Medical-Chatbot-Generative-AI'"
      ]
     },
     "execution_count": 3,
     "metadata": {},
     "output_type": "execute_result"
    }
   ],
   "source": [
    "import os\n",
    "os.chdir('../')\n",
    "%pwd"
   ]
  },
  {
   "cell_type": "code",
   "execution_count": 4,
   "id": "70fa7058",
   "metadata": {},
   "outputs": [],
   "source": [
    "from langchain_community.document_loaders import PyPDFLoader,DirectoryLoader\n",
    "from langchain.text_splitter import RecursiveCharacterTextSplitter"
   ]
  },
  {
   "cell_type": "code",
   "execution_count": 5,
   "id": "6409c803",
   "metadata": {},
   "outputs": [],
   "source": [
    "def load_pdf_file(data):\n",
    "    loader = DirectoryLoader(data,\n",
    "                    glob='*.pdf',\n",
    "                    loader_cls=PyPDFLoader)\n",
    "    documents = loader.load()\n",
    "    return documents\n",
    "    "
   ]
  },
  {
   "cell_type": "code",
   "execution_count": 6,
   "id": "3f8906e6",
   "metadata": {},
   "outputs": [],
   "source": [
    "extracted_data = load_pdf_file(data = 'Data/')"
   ]
  },
  {
   "cell_type": "code",
   "execution_count": 7,
   "id": "25c69a82",
   "metadata": {},
   "outputs": [],
   "source": [
    "#extracted_data"
   ]
  },
  {
   "cell_type": "code",
   "execution_count": 8,
   "id": "4591c973",
   "metadata": {},
   "outputs": [],
   "source": [
    "def text_split(extracted_data):\n",
    "    text_splitter = RecursiveCharacterTextSplitter(chunk_size=500,chunk_overlap=20)\n",
    "    text_chunks = text_splitter.split_documents(extracted_data)\n",
    "    return text_chunks"
   ]
  },
  {
   "cell_type": "code",
   "execution_count": 9,
   "id": "f77d5511",
   "metadata": {},
   "outputs": [
    {
     "data": {
      "text/plain": [
       "6970"
      ]
     },
     "execution_count": 9,
     "metadata": {},
     "output_type": "execute_result"
    }
   ],
   "source": [
    "text_chunks = text_split(extracted_data)\n",
    "len(text_chunks)"
   ]
  },
  {
   "cell_type": "code",
   "execution_count": 10,
   "id": "bc765aed",
   "metadata": {},
   "outputs": [],
   "source": [
    "#text_chunks"
   ]
  },
  {
   "cell_type": "code",
   "execution_count": 11,
   "id": "688a5f58",
   "metadata": {},
   "outputs": [],
   "source": [
    "from langchain_huggingface import HuggingFaceEmbeddings"
   ]
  },
  {
   "cell_type": "code",
   "execution_count": 12,
   "id": "62de6892",
   "metadata": {},
   "outputs": [],
   "source": [
    "def download_huggingface_embeddings():\n",
    "    embeddings = HuggingFaceEmbeddings(model_name='sentence-transformers/all-MiniLM-L6-v2')\n",
    "    return embeddings"
   ]
  },
  {
   "cell_type": "code",
   "execution_count": 13,
   "id": "bbb6c2f1",
   "metadata": {},
   "outputs": [
    {
     "name": "stderr",
     "output_type": "stream",
     "text": [
      "c:\\Users\\skc\\anaconda3\\envs\\medibot\\Lib\\site-packages\\tqdm\\auto.py:21: TqdmWarning: IProgress not found. Please update jupyter and ipywidgets. See https://ipywidgets.readthedocs.io/en/stable/user_install.html\n",
      "  from .autonotebook import tqdm as notebook_tqdm\n"
     ]
    }
   ],
   "source": [
    "embeddings = download_huggingface_embeddings()"
   ]
  },
  {
   "cell_type": "code",
   "execution_count": 14,
   "id": "7e1bea2f",
   "metadata": {},
   "outputs": [
    {
     "name": "stdout",
     "output_type": "stream",
     "text": [
      "length 384\n",
      "[-0.03447727486491203, 0.03102317824959755, 0.006734970025718212, 0.026108985766768456, -0.03936202451586723, -0.16030244529247284, 0.06692401319742203, -0.006441489793360233, -0.0474504791200161, 0.014758856035768986, 0.07087527960538864, 0.05552763119339943, 0.019193334504961967, -0.026251312345266342, -0.01010954286903143, -0.02694045566022396, 0.022307461127638817, -0.022226648405194283, -0.14969263970851898, -0.017493007704615593, 0.00767625542357564, 0.05435224249958992, 0.0032543970737606287, 0.031725890934467316, -0.0846213847398758, -0.02940601296722889, 0.05159561336040497, 0.04812406003475189, -0.0033148222137242556, -0.058279167860746384, 0.04196927323937416, 0.022210685536265373, 0.1281888335943222, -0.022338971495628357, -0.011656315997242928, 0.06292839348316193, -0.032876335084438324, -0.09122604131698608, -0.031175347045063972, 0.0526994913816452, 0.04703482985496521, -0.08420311659574509, -0.030056199058890343, -0.02074483036994934, 0.009517835453152657, -0.0037217906210571527, 0.007343285251408815, 0.03932438790798187, 0.0932740643620491, -0.003788596484810114, -0.052742067724466324, -0.05805816128849983, -0.006864361464977264, 0.005283191800117493, 0.0828929990530014, 0.019362755119800568, 0.0062844837084412575, -0.010330787859857082, 0.009032378904521465, -0.037683695554733276, -0.04520607739686966, 0.024016305804252625, -0.006944137159734964, 0.013491630554199219, 0.10005494207143784, -0.07168391346931458, -0.021695120260119438, 0.031618405133485794, -0.051634665578603745, -0.08224772661924362, -0.06569333374500275, -0.00989533495157957, 0.005816374905407429, 0.07355456054210663, -0.034050311893224716, 0.0248861201107502, 0.014488042332231998, 0.02645738422870636, 0.009656722657382488, 0.0302172489464283, 0.05280393362045288, -0.07535984367132187, 0.009897145442664623, 0.029836809262633324, 0.01755557768046856, 0.023091984912753105, 0.001933806692250073, 0.0014002545503899455, -0.04717595875263214, -0.011194315738976002, -0.11420144140720367, -0.019811924546957016, 0.040266189724206924, 0.0021929906215518713, -0.07979220896959305, -0.02538231760263443, 0.09448299556970596, -0.02898104302585125, -0.14500252902507782, 0.23097744584083557, 0.027731187641620636, 0.03211146965622902, 0.03106505796313286, 0.04283284768462181, 0.06423777341842651, 0.03216316178441048, -0.004876770544797182, 0.055699463933706284, -0.03753238171339035, -0.02150554023683071, -0.028342634439468384, -0.028846951201558113, 0.0383530892431736, -0.017468664795160294, 0.052485305815935135, -0.07487601786851883, -0.03125976398587227, 0.021841565147042274, -0.03989570587873459, -0.008587091229856014, 0.026956576853990555, -0.04849553853273392, 0.011469882912933826, 0.02961820363998413, -0.02057218924164772, 0.013103843666613102, 0.028833510354161263, -3.1941990848222185e-33, 0.06478213518857956, -0.018130183219909668, 0.051789961755275726, 0.12198275327682495, 0.028780106455087662, 0.008721951395273209, -0.07052119821310043, -0.016907278448343277, 0.04073973000049591, 0.042116157710552216, 0.025447236374020576, 0.03574628755450249, -0.04914471507072449, 0.0021290204022079706, -0.015546582639217377, 0.050730545073747635, -0.0481853261590004, 0.03588061034679413, -0.0040670474991202354, 0.10172472149133682, -0.05597002059221268, -0.010681048966944218, 0.01123578567057848, 0.09068653732538223, 0.004234451334923506, 0.035138655453920364, -0.009702847339212894, -0.09386517852544785, 0.0928555428981781, 0.008004927076399326, -0.007705425377935171, -0.05208674445748329, -0.012587991543114185, 0.0032669377978891134, 0.006013509817421436, 0.007581559009850025, 0.01051718182861805, -0.08634556829929352, -0.06987880170345306, -0.0025338928680866957, -0.09097658842802048, 0.04688733071088791, 0.052076540887355804, 0.007193844299763441, 0.010903622955083847, -0.0052295587956905365, 0.013937311246991158, 0.021968349814414978, 0.03420866280794144, 0.060224682092666626, 0.00011665470083244145, 0.014731976203620434, -0.07008926570415497, 0.028499048203229904, -0.02760172076523304, 0.010768445208668709, 0.034830961376428604, -0.02248787134885788, 0.009769017808139324, 0.07722785323858261, 0.021588314324617386, 0.11495620757341385, -0.0680011734366417, 0.02376098558306694, -0.0159839428961277, -0.0178269911557436, 0.06439495831727982, 0.032025739550590515, 0.05027025192975998, -0.005913770757615566, -0.03370805084705353, 0.017840256914496422, 0.016573317348957062, 0.06329657882452011, 0.03467721864581108, 0.046473488211631775, 0.09790610522031784, -0.00663550291210413, 0.02520712837576866, -0.07798824459314346, 0.0169264767318964, -0.000945797364693135, 0.022471921518445015, -0.038253191858530045, 0.09570474177598953, -0.005350803025066853, 0.010469110682606697, -0.11524055153131485, -0.013262521475553513, -0.010709455236792564, -0.08311725407838821, 0.07327353954315186, 0.04939225688576698, -0.008994322270154953, -0.09584552049636841, 3.3661485617505796e-33, 0.12493184208869934, 0.01934972032904625, -0.05822571739554405, -0.03598826378583908, -0.05074676498770714, -0.04566238448023796, -0.08260336518287659, 0.1481948047876358, -0.08842118829488754, 0.06027443706989288, 0.05103015899658203, 0.01030314713716507, 0.14121422171592712, 0.03081384487450123, 0.061033159494400024, -0.052851270884275436, 0.1366489678621292, 0.00918989721685648, -0.01732518896460533, -0.012848555110394955, -0.007995282299816608, -0.0509800985455513, -0.05235064774751663, 0.007593012880533934, -0.015166307799518108, 0.01696030981838703, 0.021270520985126495, 0.020558107644319534, -0.12002813816070557, 0.014461833983659744, 0.02675991877913475, 0.025330696254968643, -0.0427546352148056, 0.006768387276679277, -0.01445858459919691, 0.04526195675134659, -0.09147648513317108, -0.019439145922660828, -0.017833467572927475, -0.05491018295288086, -0.052641112357378006, -0.010459048673510551, -0.052016086876392365, 0.020891955122351646, -0.07997036725282669, -0.012111340649425983, -0.05773142725229263, 0.023178234696388245, -0.008031732402741909, -0.02598930336534977, -0.07995671033859253, -0.020728832110762596, 0.048817697912454605, -0.020389137789607048, -0.04917657747864723, 0.014159622602164745, -0.06362202018499374, -0.007807393092662096, 0.01643155701458454, -0.0256824791431427, 0.013381040655076504, 0.026248741894960403, 0.009978413581848145, 0.06322886794805527, 0.002672201255336404, -0.006582767236977816, 0.01663188263773918, 0.03236646577715874, 0.03794245794415474, -0.036376070231199265, -0.006910930387675762, 0.0001596928050275892, -0.0016335808904841542, -0.02727821283042431, -0.02803807333111763, 0.049681417644023895, -0.028867173939943314, -0.0024180689360946417, 0.014774908311665058, 0.009764534421265125, 0.005797638092190027, 0.013486160896718502, 0.0055678957141935825, 0.03722710534930229, 0.007232527248561382, 0.04015626385807991, 0.08150326460599899, 0.07199167460203171, -0.013056126423180103, -0.0428820475935936, -0.01101123820990324, 0.004897820297628641, -0.009229730814695358, 0.035191506147384644, -0.05103502422571182, -1.571437557856825e-08, -0.08862441033124924, 0.02390925958752632, -0.01623876392841339, 0.031700510531663895, 0.027284247800707817, 0.05246882885694504, -0.047070957720279694, -0.058847445994615555, -0.06320822983980179, 0.04088849574327469, 0.04982800409197807, 0.10655171424150467, -0.07450230419635773, -0.012495421804487705, 0.01837071217596531, 0.03947412595152855, -0.024797886610031128, 0.014516262337565422, -0.03706921637058258, 0.02001572772860527, -4.85817035951186e-05, 0.00986657664179802, 0.024838753044605255, -0.05245814099907875, 0.029314178973436356, -0.08719190955162048, -0.01449968758970499, 0.026019077748060226, -0.01874636672437191, -0.07620512694120407, 0.03504333272576332, 0.10363949835300446, -0.028050510212779045, 0.012718182988464832, -0.07632549107074738, -0.01865232177078724, 0.02497672848403454, 0.0814453512430191, 0.06875883787870407, -0.0640566498041153, -0.08389385789632797, 0.06136231869459152, -0.033545564860105515, -0.10615336894989014, -0.040080588310956955, 0.032530225813388824, 0.07662483304738998, -0.0730162113904953, 0.00033755265758372843, -0.040871646255254745, -0.0757884755730629, 0.027527665719389915, 0.07462543249130249, 0.01771726831793785, 0.09121846407651901, 0.11022016406059265, 0.0005697731394320726, 0.05146336182951927, -0.014551310800015926, 0.03323203697800636, 0.023792240768671036, -0.02288980595767498, 0.038937538862228394, 0.030206844210624695]\n"
     ]
    }
   ],
   "source": [
    "query_vector = embeddings.embed_query(\"hello World\")\n",
    "print(\"length\",len(query_vector))\n",
    "print(query_vector)"
   ]
  },
  {
   "cell_type": "code",
   "execution_count": 15,
   "id": "d3b23601",
   "metadata": {},
   "outputs": [],
   "source": [
    "import os\n",
    "from dotenv import load_dotenv\n",
    "\n",
    "# Load environment variables from .env file\n",
    "load_dotenv()\n",
    "PINECONE_API_KEY = os.environ.get('PINECONE_API_KEY')\n",
    "OPENAI_API_KEY = os.environ.get('OPENAI_API_KEY')\n",
    "#OPENAI_API_KEY"
   ]
  },
  {
   "cell_type": "code",
   "execution_count": 16,
   "id": "40a46575",
   "metadata": {},
   "outputs": [
    {
     "data": {
      "text/plain": [
       "{\n",
       "    \"name\": \"medicalbot\",\n",
       "    \"metric\": \"cosine\",\n",
       "    \"host\": \"medicalbot-65y5jbg.svc.aped-4627-b74a.pinecone.io\",\n",
       "    \"spec\": {\n",
       "        \"serverless\": {\n",
       "            \"cloud\": \"aws\",\n",
       "            \"region\": \"us-east-1\"\n",
       "        }\n",
       "    },\n",
       "    \"status\": {\n",
       "        \"ready\": true,\n",
       "        \"state\": \"Ready\"\n",
       "    },\n",
       "    \"vector_type\": \"dense\",\n",
       "    \"dimension\": 384,\n",
       "    \"deletion_protection\": \"disabled\",\n",
       "    \"tags\": null\n",
       "}"
      ]
     },
     "execution_count": 16,
     "metadata": {},
     "output_type": "execute_result"
    }
   ],
   "source": [
    "from pinecone.grpc import PineconeGRPC as Pinecone\n",
    "from pinecone import  ServerlessSpec\n",
    "\n",
    "index_name = 'medicalbot'\n",
    "pc = Pinecone(api_key=PINECONE_API_KEY)\n",
    "pc.create_index(\n",
    "    name=index_name,\n",
    "    dimension=384, # Replace with your model dimensions\n",
    "    metric=\"cosine\", # Replace with your model metric\n",
    "    spec=ServerlessSpec(\n",
    "        cloud=\"aws\",\n",
    "        region=\"us-east-1\"\n",
    "    ) \n",
    ")"
   ]
  },
  {
   "cell_type": "code",
   "execution_count": 17,
   "id": "59123c53",
   "metadata": {},
   "outputs": [],
   "source": [
    "os.environ[\"PINECONE_API_KEY\"] = PINECONE_API_KEY\n",
    "os.environ[\"OPENAI_API_KEY\"] = OPENAI_API_KEY"
   ]
  },
  {
   "cell_type": "code",
   "execution_count": 18,
   "id": "e3359dec",
   "metadata": {},
   "outputs": [],
   "source": [
    "from langchain_pinecone import PineconeVectorStore\n",
    "docsearch = PineconeVectorStore.from_documents(\n",
    "    documents=text_chunks,\n",
    "    index_name=index_name,\n",
    "    embedding=embeddings\n",
    ")"
   ]
  },
  {
   "cell_type": "code",
   "execution_count": 19,
   "id": "4bf08ed8",
   "metadata": {},
   "outputs": [],
   "source": [
    "from langchain_pinecone import PineconeVectorStore\n",
    "docsearch = PineconeVectorStore.from_existing_index(\n",
    "    index_name=index_name,\n",
    "    embedding=embeddings\n",
    ")"
   ]
  },
  {
   "cell_type": "code",
   "execution_count": 20,
   "id": "9b6abd25",
   "metadata": {},
   "outputs": [],
   "source": [
    "#docsearch"
   ]
  },
  {
   "cell_type": "code",
   "execution_count": 21,
   "id": "c5bd2eb8",
   "metadata": {},
   "outputs": [],
   "source": [
    "retreiver = docsearch.as_retriever(search_type=\"similarity\",search_kwargs={\"k\":3})"
   ]
  },
  {
   "cell_type": "code",
   "execution_count": 22,
   "id": "be44764e",
   "metadata": {},
   "outputs": [],
   "source": [
    "retrieved_doc = retreiver.invoke(\"what is Acne?\")"
   ]
  },
  {
   "cell_type": "code",
   "execution_count": 23,
   "id": "f3a9e2ca",
   "metadata": {},
   "outputs": [
    {
     "data": {
      "text/plain": [
       "[Document(id='ea50c75e-ffb7-435e-895c-59bccfddd3e0', metadata={'author': '', 'creationdate': '2017-05-01T10:37:35-07:00', 'creator': '', 'keywords': '', 'moddate': '2017-05-01T10:37:35-07:00', 'page': 425.0, 'page_label': '426', 'producer': 'GPL Ghostscript 9.10', 'source': 'Data\\\\MEDICINE_SECOND_EDITION.pdf', 'subject': '', 'title': '', 'total_pages': 759.0}, page_content='Corticosteriod—A group of synthetic hormones\\nthat are used to prevent or reduce inflammation.\\nToxic effects may result from rapid withdrawal after\\nprolonged use or from continued use of large doses.\\nPatch test—A skin test that is done to identify aller-\\ngens. A suspected substance is applied to the skin.\\nAfter 24–48 hours, if the area is red and swollen,\\nthe test is positive for that substance. If no reaction\\noccurs, another substance is applied. This is con-'),\n",
       " Document(id='f93206e6-dee0-4aff-912f-80cdcc199ef2', metadata={'author': '', 'creationdate': '2017-05-01T10:37:35-07:00', 'creator': '', 'keywords': '', 'moddate': '2017-05-01T10:37:35-07:00', 'page': 298.0, 'page_label': '299', 'producer': 'GPL Ghostscript 9.10', 'source': 'Data\\\\MEDICINE_SECOND_EDITION.pdf', 'subject': '', 'title': '', 'total_pages': 759.0}, page_content='Corticosteroids—A group of anti-inflammatory\\nsubstances often used to treat skin conditions.\\nImmune response—The protective reaction by the\\nimmune system against foreign antigens (sub-\\nstances that the body perceives as potentially dan-\\ngerous). The immune system combats disease by\\nneutralizing or destroying antigens.\\ncontact dermatitis becomes a chronic and disabling con-\\ndition that can have a profound effect on employability\\nand quality of life.\\nPrevention'),\n",
       " Document(id='028cca51-987c-4629-b1b0-32a74d7173df', metadata={'author': '', 'creationdate': '2017-05-01T10:37:35-07:00', 'creator': '', 'keywords': '', 'moddate': '2017-05-01T10:37:35-07:00', 'page': 423.0, 'page_label': '424', 'producer': 'GPL Ghostscript 9.10', 'source': 'Data\\\\MEDICINE_SECOND_EDITION.pdf', 'subject': '', 'title': '', 'total_pages': 759.0}, page_content='thing that irritates the skin and is manifested by one or\\nmore lines of red, swollen, blistered skin that may itch or\\nGALE ENCYCLOPEDIA OF MEDICINE 21036\\nDermatitis')]"
      ]
     },
     "execution_count": 23,
     "metadata": {},
     "output_type": "execute_result"
    }
   ],
   "source": [
    "retrieved_doc"
   ]
  },
  {
   "cell_type": "code",
   "execution_count": 24,
   "id": "d2ab1845",
   "metadata": {},
   "outputs": [],
   "source": [
    "from langchain_openai import OpenAI\n",
    "llm = OpenAI(temperature=0.4,max_tokens=500)"
   ]
  },
  {
   "cell_type": "code",
   "execution_count": 25,
   "id": "c5d89100",
   "metadata": {},
   "outputs": [],
   "source": [
    "from langchain.chains import create_retrieval_chain\n",
    "from langchain.chains.combine_documents import create_stuff_documents_chain\n",
    "from langchain_core.prompts import ChatPromptTemplate\n",
    "\n",
    "system_prompts = (\n",
    "    \"You are an assistant for Q/A tasks.\"\n",
    "    \"Use the following peace of retreived for answers\"\n",
    "    \"the questions,If you don't know the answer,say that\"\n",
    "    \"you don't know,use 3 sentence fmaximum\"\n",
    "    \"and keep the naswer concise.\"\n",
    "    \"\\n\\n\"\n",
    "    \"{context}\"\n",
    ")\n",
    "prompt = ChatPromptTemplate.from_messages(\n",
    "    [\n",
    "    ('system',system_prompts),\n",
    "    ('human',\"{input}\"),\n",
    "    ]\n",
    ")"
   ]
  },
  {
   "cell_type": "code",
   "execution_count": 26,
   "id": "deed9e29",
   "metadata": {},
   "outputs": [],
   "source": [
    "question_answer_chain = create_stuff_documents_chain(llm,prompt)\n",
    "rag_chain=create_retrieval_chain(retreiver,question_answer_chain)"
   ]
  },
  {
   "cell_type": "code",
   "execution_count": 31,
   "id": "a9069c9d",
   "metadata": {},
   "outputs": [
    {
     "name": "stdout",
     "output_type": "stream",
     "text": [
      "Rate limited. Retry 1/5 in 2 seconds.\n",
      "Rate limited. Retry 2/5 in 4 seconds.\n",
      "Rate limited. Retry 3/5 in 8 seconds.\n",
      "Rate limited. Retry 4/5 in 16 seconds.\n",
      "Rate limited. Retry 5/5 in 32 seconds.\n"
     ]
    },
    {
     "ename": "NameError",
     "evalue": "name 'response' is not defined",
     "output_type": "error",
     "traceback": [
      "\u001b[1;31m---------------------------------------------------------------------------\u001b[0m",
      "\u001b[1;31mNameError\u001b[0m                                 Traceback (most recent call last)",
      "Cell \u001b[1;32mIn[31], line 18\u001b[0m\n\u001b[0;32m     14\u001b[0m         retry_delay \u001b[38;5;241m*\u001b[39m\u001b[38;5;241m=\u001b[39m \u001b[38;5;241m2\u001b[39m  \u001b[38;5;66;03m# exponential backoff\u001b[39;00m\n\u001b[0;32m     17\u001b[0m \u001b[38;5;66;03m# Usage\u001b[39;00m\n\u001b[1;32m---> 18\u001b[0m \u001b[43mresponse\u001b[49m\n",
      "\u001b[1;31mNameError\u001b[0m: name 'response' is not defined"
     ]
    }
   ],
   "source": [
    "import time\n",
    "from openai import RateLimitError\n",
    "\n",
    "max_retries = 5\n",
    "retry_delay = 2  # seconds\n",
    "\n",
    "for i in range(max_retries):\n",
    "    try:\n",
    "        response = rag_chain.invoke({\"input\": \"what is Acne?\"})\n",
    "        break\n",
    "    except RateLimitError as e:\n",
    "        print(f\"Rate limited. Retry {i + 1}/{max_retries} in {retry_delay} seconds.\")\n",
    "        time.sleep(retry_delay)\n",
    "        retry_delay *= 2  # exponential backoff\n",
    "\n",
    "\n",
    "# Usage\n",
    "response\n"
   ]
  },
  {
   "cell_type": "code",
   "execution_count": null,
   "id": "9fc30269",
   "metadata": {},
   "outputs": [],
   "source": []
  }
 ],
 "metadata": {
  "kernelspec": {
   "display_name": "medibot",
   "language": "python",
   "name": "python3"
  },
  "language_info": {
   "codemirror_mode": {
    "name": "ipython",
    "version": 3
   },
   "file_extension": ".py",
   "mimetype": "text/x-python",
   "name": "python",
   "nbconvert_exporter": "python",
   "pygments_lexer": "ipython3",
   "version": "3.12.9"
  }
 },
 "nbformat": 4,
 "nbformat_minor": 5
}
